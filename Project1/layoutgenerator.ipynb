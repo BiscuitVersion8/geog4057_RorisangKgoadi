{
 "cells": [
  {
   "cell_type": "code",
   "execution_count": 1,
   "metadata": {},
   "outputs": [
    {
     "name": "stdout",
     "output_type": "stream",
     "text": [
      "0 :East African Rift System\n",
      "1 :Albertine Rift\n",
      "2 :Albertine Rift\n",
      "3 :Volcanoes of The East African Rift\n",
      "4 :Gabriel Yi East African rift 1/3\n",
      "5 :Map\n",
      "6 :States\n",
      "7 :States1\n"
     ]
    }
   ],
   "source": [
    "import arcpy\n",
    "aprx = arcpy.mp.ArcGISProject(r\"C:\\Users\\13375\\OneDrive - Johns Hopkins\\Documents\\ArcGIS\\Projects\\GEOG4057\\GEOG4057.aprx\")\n",
    "maps = aprx.listMaps()\n",
    "for index, m in enumerate(maps):\n",
    "    print(f\"{index} :{m.name}\")\n",
    "del aprx"
   ]
  },
  {
   "cell_type": "code",
   "execution_count": 2,
   "metadata": {},
   "outputs": [
    {
     "ename": "SyntaxError",
     "evalue": "(unicode error) 'unicodeescape' codec can't decode bytes in position 2-3: truncated \\UXXXXXXXX escape (<string>, line 2)",
     "output_type": "error",
     "traceback": [
      "\u001b[0;31m---------------------------------------------------------------------------\u001b[0m\n\u001b[0;31mSyntaxError\u001b[0m                               Traceback (most recent call last)",
      "File \u001b[0;34mC:\\Users\\13375\\AppData\\Local\\ESRI\\conda\\envs\\ArcPyClone\\lib\\ast.py\u001b[0m, in \u001b[0;32mparse\u001b[0m:\nLine \u001b[0;34m50\u001b[0m:    \u001b[34mreturn\u001b[39;49;00m \u001b[36mcompile\u001b[39;49;00m(source, filename, mode, flags,\n",
      "\u001b[0;31mSyntaxError\u001b[0m: (unicode error) 'unicodeescape' codec can't decode bytes in position 2-3: truncated \\UXXXXXXXX escape (<string>, line 2)\n\u001b[0;31m---------------------------------------------------------------------------\u001b[0m"
     ]
    }
   ],
   "source": [
    "m = arpx.listMaps()[5]\n",
    "m.addDataFromPath(\"C:\\Users\\13375\\OneDrive - Johns Hopkins\\Documents\\GEOG4057 GISProgramming\\Project1\")\n",
    "aprx.save()\n",
    "del aprx"
   ]
  },
  {
   "cell_type": "code",
   "execution_count": 3,
   "metadata": {},
   "outputs": [
    {
     "ename": "AttributeError",
     "evalue": "'ArcGISProject' object has no attribute 'createLayout'",
     "output_type": "error",
     "traceback": [
      "\u001b[0;31m---------------------------------------------------------------------------\u001b[0m\n\u001b[0;31mAttributeError\u001b[0m                            Traceback (most recent call last)",
      "In  \u001b[0;34m[3]\u001b[0m:\nLine \u001b[0;34m2\u001b[0m:     lyt = p.createLayout(\u001b[34m8.5\u001b[39;49;00m,\u001b[34m11\u001b[39;49;00m,\u001b[33m'\u001b[39;49;00m\u001b[33mINCH\u001b[39;49;00m\u001b[33m'\u001b[39;49;00m)\n",
      "\u001b[0;31mAttributeError\u001b[0m: 'ArcGISProject' object has no attribute 'createLayout'\n\u001b[0;31m---------------------------------------------------------------------------\u001b[0m"
     ]
    }
   ],
   "source": [
    "p = arcpy.mp.ArcGISProject(\"CURRENT\")\n",
    "lyt = p.createLayout(8.5,11,'INCH')\n",
    "m = p.listMaps(\"Map\")[0] \n",
    "def MakeRec_LL(llx, lly, w, h):\n",
    "    xyRecList = [[llx, lly], [llx, lly+h], [llx+w,lly+h], [llx+w,lly], [llx,lly]]\n",
    "    array = arcpy.Array([arcpy.Point(*coords) for coords in xyRecList])\n",
    "    rec = arcpy.Polygon(array)\n",
    "    return rec\n",
    "\n",
    "mf = lyt.createMapFrame(MakeRec_LL(0.5,0.5,10,7.5), m, \"New Map Frame\")"
   ]
  },
  {
   "cell_type": "code",
   "execution_count": null,
   "metadata": {},
   "outputs": [],
   "source": [
    "naStyle = aprx.listStyleItems('ArcGIS 2D', 'North_Arrow', 'Compass North 1')[0]\n",
    "na = lyt.createMapSurroundElement(arcpy.Point(9.5,7.5), 'North_Arrow', mf,\n",
    "                                      naStyle, \"Compass North Arrow\")\n",
    "na.elementWidth = 0.5 "
   ]
  }
 ],
 "metadata": {
  "kernelspec": {
   "display_name": "ArcGISPro",
   "language": "Python",
   "name": "python3"
  },
  "language_info": {
   "file_extension": ".py",
   "name": "python",
   "version": "3"
  }
 },
 "nbformat": 4,
 "nbformat_minor": 2
}
